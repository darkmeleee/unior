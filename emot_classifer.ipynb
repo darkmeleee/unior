{
 "cells": [
  {
   "cell_type": "code",
   "execution_count": 1,
   "metadata": {},
   "outputs": [
    {
     "name": "stderr",
     "output_type": "stream",
     "text": [
      "/home/yourtyankaqq/main_projects/vscode/ml/emotion_clf/.venv/lib/python3.12/site-packages/tqdm/auto.py:21: TqdmWarning: IProgress not found. Please update jupyter and ipywidgets. See https://ipywidgets.readthedocs.io/en/stable/user_install.html\n",
      "  from .autonotebook import tqdm as notebook_tqdm\n"
     ]
    }
   ],
   "source": [
    "import os\n",
    "import glob\n",
    "from transformers import pipeline\n",
    "import torch\n",
    "import time"
   ]
  },
  {
   "cell_type": "code",
   "execution_count": 2,
   "metadata": {},
   "outputs": [
    {
     "name": "stderr",
     "output_type": "stream",
     "text": [
      "Device set to use cpu\n"
     ]
    }
   ],
   "source": [
    "model_name = \"openai/whisper-small\"\n",
    "pipe = pipeline(\"automatic-speech-recognition\", model=model_name, device=\"cuda\" if torch.cuda.is_available() else \"cpu\")"
   ]
  },
  {
   "cell_type": "code",
   "execution_count": 3,
   "metadata": {},
   "outputs": [],
   "source": [
    "def load_audio(path):\n",
    "    audio_files = glob.glob(os.path.join(path, \"*.wav\"))\n",
    "    return audio_files"
   ]
  },
  {
   "cell_type": "code",
   "execution_count": 4,
   "metadata": {},
   "outputs": [],
   "source": [
    "def transcribe_audio(audio_file_path, model_name=\"openai/whisper-small\"):\n",
    "    pipe = pipeline(\"automatic-speech-recognition\", model=model_name, device=\"cuda\" if torch.cuda.is_available() else \"cpu\")\n",
    "    start_time = time.time()\n",
    "    res = pipe(audio_file_path)\n",
    "    end_time = time.time()\n",
    "    return res[\"text\"], end_time - start_time\n"
   ]
  },
  {
   "cell_type": "code",
   "execution_count": 5,
   "metadata": {},
   "outputs": [],
   "source": [
    "def test_whisper_speed(audio_files, model_name):\n",
    "    total_time = 0\n",
    "    if not audio_files:\n",
    "        print(\"Нет аудиофайлов в указанной папке!\")\n",
    "        return\n",
    "\n",
    "    for audio_file in audio_files:\n",
    "      try:\n",
    "        text, time_taken = transcribe_audio(audio_file, model_name)\n",
    "        total_time+=time_taken\n",
    "        print(f\"File: {os.path.basename(audio_file)}.\\nТранскрпция текста: {text}\")\n",
    "      except Exception as e:\n",
    "        print(f\"ошибка во время обработки {os.path.basename(audio_file)}: {e}\")\n",
    "    avg_time = total_time/len(audio_files)\n",
    "    print(f\"Модель: {model_name}\")\n",
    "    print(f\"Среднее время транскрипции: {avg_time:.2f} секунд на файл\")\n",
    "\n",
    "\n"
   ]
  },
  {
   "cell_type": "code",
   "execution_count": 6,
   "metadata": {},
   "outputs": [
    {
     "name": "stdout",
     "output_type": "stream",
     "text": [
      "Нет аудиофайлов в указанной папке!\n",
      "Нет аудиофайлов в указанной папке!\n",
      "Нет аудиофайлов в указанной папке!\n"
     ]
    }
   ],
   "source": [
    "if __name__ == \"__main__\":\n",
    "    dataset_path = \"./podcast/podcast_test/wavs\"\n",
    "\n",
    "    audio_files = load_audio(dataset_path)\n",
    "\n",
    "    models = [\"openai/whisper-small\", \"openai/whisper-medium\", \"openai/whisper-large-v3\"]\n",
    "\n",
    "    for model in models:\n",
    "       test_whisper_speed(audio_files, model)"
   ]
  },
  {
   "cell_type": "code",
   "execution_count": null,
   "metadata": {},
   "outputs": [],
   "source": []
  }
 ],
 "metadata": {
  "kernelspec": {
   "display_name": ".venv",
   "language": "python",
   "name": "python3"
  },
  "language_info": {
   "codemirror_mode": {
    "name": "ipython",
    "version": 3
   },
   "file_extension": ".py",
   "mimetype": "text/x-python",
   "name": "python",
   "nbconvert_exporter": "python",
   "pygments_lexer": "ipython3",
   "version": "3.12.3"
  }
 },
 "nbformat": 4,
 "nbformat_minor": 2
}
